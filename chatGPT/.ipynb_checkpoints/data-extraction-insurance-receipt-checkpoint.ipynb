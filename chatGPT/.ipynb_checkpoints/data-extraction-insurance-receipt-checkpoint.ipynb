{
 "cells": [
  {
   "cell_type": "code",
   "execution_count": 2,
   "id": "67786d55-cfd8-430d-892e-70958209ff12",
   "metadata": {},
   "outputs": [],
   "source": [
    "import json\n",
    "# https://uat.doc.com.ai/#/business/qhQeD9VHSL/project/v76sGkHu57zD1O/label\n",
    "with open(\"./data/insurance_receipt_sample.json\", \"r\") as file:\n",
    "    data = json.load(file)"
   ]
  },
  {
   "cell_type": "code",
   "execution_count": 3,
   "id": "af8b5ec8-cd92-4224-ab26-42537f048a1d",
   "metadata": {},
   "outputs": [
    {
     "name": "stdout",
     "output_type": "stream",
     "text": [
      "AG 41P SMSF MASTER INSURANCE PLAN Australian Group Insurances POLICY INSURANCE CERTIFICATE SUPERANNUATION Date of issue 14/06/2019 Superannuation Fund Details Name of Superannuation Fund Lotus Super fund ABN 604332774 Name(s) of Trustee Lotus super Co Pty Ltd Trustee Type Corporate Trustee Postal Address 13 Rangeview Rd Lower Plenty VIC 3093 Member Details Member Number 1906000026 Payment Frequency Monthly Commencement Date 13 June 2019 Member Name Anna Kerss Gender Female Date of Birth 9 November 1959 Postal Address 13 Rangeview Rd Lower Plenty VIC 3093 Cover Details Sum Insured Cover Type Monthly Premium (Indemnity) DEATH New cover: $100,000 $34.67 TPDANY New cover: $100,000 $63.54 Policy Fee $6.25 Total Monthly Premium $104.46 This Policy Insurance Certificate forms part of the SMSF Master Insurance Policy from the date of issue. Your duty of disclosure Before you enter into a contract of life insurance with an insurer, you have a duty, under the Insurance Contracts Act 1984 to disclose to the insurer every matter that you know, or could reasonably be expected to know, is relevant to the insurer's decision whether to accept the risk of the insurance and, if so, on what terms. You have the same duty to disclose those matters to the insurer before you renew, extend, vary or reinstate a contract of life insurance. Your duty however does not require disclosure of a matter: - that diminishes the risk to be undertaken by the insurer; - that is of common knowledge; - that your insurer knows or, in the ordinary course of his business, ought to know; - as to which compliance with your duty is waived by the insurer. This duty applies to the SMSF Trustee in respect of a proposed member of the SMSF at the time the proposed member becomes a member of the SMSF Non-disclosure If you fail to comply with your duty of disclosure and the insurer would not have entered into the contract on any terms if the failure had not occurred, the insurer may avoid the contract within 3 years of entering into it. If your non-disclosure is fraudulent, the insurer may avoid the contract at any time. An insurer who is entitled to avoid a contract of life insurance may, within 3 years of entering into it, elect not to avoid it but to reduce the sum that you have been insured for in accordance with a formula that takes into account the premium that would have been payable if you had disclosed all relevant matters to the insurer. This Policy Insurance Certificate is issued by Australian Group Insurance (ABN 97 140 572 434, AFSL 379565) and details your insurance cover under the SMSF Master Insurance Plan Policy. AIA Australia Limited (ABN 79 004 837 861, AFSL 230043) is the insurer of the SMSF Master Insurance Plan. \n"
     ]
    }
   ],
   "source": [
    "output_text = \"\"\n",
    "\n",
    "for page in data['Blocks']:\n",
    "    if page['BlockType'] == 'LINE':\n",
    "        output_text += page['Text'] + ' '\n",
    "\n",
    "print(output_text)"
   ]
  },
  {
   "cell_type": "code",
   "execution_count": null,
   "id": "e0e6a896-011c-4190-864f-4c5c2b103d15",
   "metadata": {},
   "outputs": [],
   "source": []
  }
 ],
 "metadata": {
  "kernelspec": {
   "display_name": "Python 3 (ipykernel)",
   "language": "python",
   "name": "python3"
  },
  "language_info": {
   "codemirror_mode": {
    "name": "ipython",
    "version": 3
   },
   "file_extension": ".py",
   "mimetype": "text/x-python",
   "name": "python",
   "nbconvert_exporter": "python",
   "pygments_lexer": "ipython3",
   "version": "3.8.16"
  }
 },
 "nbformat": 4,
 "nbformat_minor": 5
}
